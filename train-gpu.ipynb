{
 "cells": [
  {
   "cell_type": "code",
   "execution_count": null,
   "metadata": {},
   "outputs": [],
   "source": [
    "import os\n",
    "import sys\n",
    "import random\n",
    "import warnings\n",
    "\n",
    "import numpy as np\n",
    "import pandas as pd\n",
    "import matplotlib.pyplot as plt\n",
    "%matplotlib inline\n",
    "\n",
    "import tensorflow as tf\n",
    "import tensorflow.keras as keras\n",
    "from tensorflow.keras import layers\n",
    "from tensorflow.keras.layers import Dense,Conv2D,Dropout,Flatten,MaxPooling2D\n",
    "from tensorflow.keras.models import Model, load_model\n",
    "from tensorflow.keras.callbacks import EarlyStopping, CSVLogger,ModelCheckpoint\n",
    "from PIL import Image\n",
    "\n"
   ]
  },
  {
   "cell_type": "markdown",
   "metadata": {},
   "source": [
    "### Build & compile model"
   ]
  },
  {
   "cell_type": "code",
   "execution_count": null,
   "metadata": {},
   "outputs": [],
   "source": [
    "@tf.function\n",
    "def num_char_acc(y_true,y_pred):\n",
    "    y_true = tf.convert_to_tensor(y_true)\n",
    "    _,num = tf.split(y_true, [40,4], 1)\n",
    "    _,NUM = tf.split(y_pred, [40,4], 1)\n",
    "    num_char_true = tf.math.argmax(num,axis=-1,output_type=tf.int32)\n",
    "    num_char_pred = tf.math.argmax(NUM,axis=-1,output_type=tf.int32)\n",
    "    n =tf.cast(num_char_true==num_char_pred,tf.float32)\n",
    "    return tf.reduce_mean(n)\n",
    "\n",
    "@tf.function\n",
    "def custom_acc(y_true,y_pred):\n",
    "\n",
    "    y_true = tf.convert_to_tensor(y_true)\n",
    "    a,b,c,d ,num = tf.split(y_true, [10,10,10,10,4], 1)\n",
    "    true = [a,b,c,d]\n",
    "    A,B,C,D,_ = tf.split(y_pred, [10,10,10,10,4], 1)\n",
    "    pred = [A,B,C,D]\n",
    "    num_char_true = tf.math.argmax(num,axis=-1,output_type=tf.int32)+ 1\n",
    "    i = 0 \n",
    "    n =tf.constant(0,tf.int32)\n",
    "    while (i<4) :\n",
    "        char_pred = tf.math.argmax(pred[i],axis=-1,output_type=tf.int32)\n",
    "        char_true = tf.math.argmax(true[i],axis=-1,output_type=tf.int32)\n",
    "        n = n+ tf.reduce_sum(tf.cast((char_pred==char_true)&(tf.convert_to_tensor(i)<num_char_true),tf.int32))\n",
    "        i=i+1\n",
    "    accuracy = tf.divide(tf.cast(n,tf.float32) , tf.cast(tf.reduce_sum(num_char_true),tf.float32))\n",
    "    return accuracy\n",
    "\n",
    "@tf.function\n",
    "def custom_loss(y_true,y_pred):\n",
    "    alpha =5\n",
    "    y_true = tf.convert_to_tensor(y_true)\n",
    "    a,b,c,d ,num = tf.split(y_true, [10,10,10,10,4], 1)\n",
    "    true = [a,b,c,d]\n",
    "    A,B,C,D,NUM = tf.split(y_pred, [10,10,10,10,4], 1)\n",
    "    pred = [A,B,C,D]\n",
    "    num_char_true = tf.math.argmax(num,axis=-1,output_type=tf.int32)+ 1\n",
    "    loss_1 = keras.losses.categorical_crossentropy(num ,NUM)\n",
    "    i =0\n",
    "    loss =tf.zeros_like(loss_1,dtype=tf.float32)\n",
    "    #loss =tf.zeros([32,1],tf.float32)\n",
    "    while (i<4) :\n",
    "        char_pred = pred[i]\n",
    "        char_true = true[i]\n",
    "        loss = loss + tf.cast(tf.convert_to_tensor(i)<num_char_true,tf.float32)*keras.losses.categorical_crossentropy(char_true,char_pred)\n",
    "        i=i+1\n",
    "    return alpha * tf.reduce_sum(loss_1) + tf.reduce_sum(loss) \n",
    "\n",
    "def build_and_compile_model():\n",
    "    \n",
    "    rate =0.2\n",
    "    rate2 = 0.5\n",
    "    inputs = keras.Input(shape=(128, 128,1), name='img')\n",
    "    #x = layers.Conv2D(16, 5, activation='relu',kernel_constraint=MaxNorm(3),padding='same')(inputs)\n",
    "    x = Conv2D(16, 5, activation='relu',padding='same')(inputs)\n",
    "    x = Dropout(rate)(x)\n",
    "    x = Conv2D(16, 5, activation='relu',padding='same')(x)\n",
    "    x = Dropout(rate)(x)\n",
    "    x = MaxPooling2D(4)(x)\n",
    "    x = Conv2D(32, 5, activation='relu',padding='same')(x)\n",
    "    x = Dropout(rate)(x)\n",
    "    x = Conv2D(32, 5, activation='relu',padding='same')(x)\n",
    "    x = Dropout(rate)(x)\n",
    "    x = MaxPooling2D(4)(x)\n",
    "    x = Conv2D(64, 5, activation='relu',padding='same')(x)\n",
    "    x = Dropout(rate)(x)\n",
    "    x = Conv2D(64, 5, activation='relu',padding='same')(x)\n",
    "    x = Dropout(rate)(x)\n",
    "    x = MaxPooling2D(4)(x)\n",
    "   \n",
    "    feature = Flatten()(x)\n",
    "    feature = Dropout(rate2)(feature)\n",
    "    outputs = layers.concatenate([Dense(10, activation='softmax')(feature),Dense(10, activation='softmax')(feature),\n",
    "                                  Dense(10, activation='softmax')(feature),Dense(10, activation='softmax')(feature),\n",
    "                                  Dense(4, activation='softmax', name='num_digits')(feature)])\n",
    "    \n",
    "    model = keras.Model(inputs=inputs , outputs=outputs, name='mnist_model')\n",
    "    model.compile(loss=custom_loss,optimizer=keras.optimizers.RMSprop(learning_rate=0.001)\n",
    "                  ,metrics=[custom_acc,num_char_acc])\n",
    "    return model\n",
    "\n",
    "model = build_and_compile_model()\n",
    "model.summary()"
   ]
  },
  {
   "cell_type": "code",
   "execution_count": null,
   "metadata": {},
   "outputs": [],
   "source": [
    "\n",
    "def parse_func(s_example):\n",
    "    features = {\n",
    "                'label':tf.io.FixedLenFeature((44,),tf.float32),\n",
    "                'image':tf.io.FixedLenFeature((128,128,1),tf.float32),\n",
    "                }\n",
    "    example = tf.io.parse_single_example(s_example, features=features)\n",
    "    return example['image'],example['label']\n"
   ]
  },
  {
   "cell_type": "markdown",
   "metadata": {},
   "source": [
    "### Data synthesization: <br/>variable-length handwritten digits randomly displayed (ex:varying  orientation  and translation)"
   ]
  },
  {
   "cell_type": "code",
   "execution_count": null,
   "metadata": {},
   "outputs": [],
   "source": [
    "FILES = '/kaggle/input/variablelength-handwritten-digits/digits-*.tfrecords'\n",
    "BATCH_SIZE=128\n",
    "dataset = tf.data.Dataset.list_files(FILES).\\\n",
    "    interleave(tf.data.TFRecordDataset, cycle_length=4, block_length=1).map(parse_func)\n",
    "\n",
    "train_dataset = dataset.skip(6000).repeat().shuffle(4000).batch(BATCH_SIZE,drop_remainder=True)\n",
    "val_dataset = dataset.take(6000).batch(250,drop_remainder=True)"
   ]
  },
  {
   "cell_type": "markdown",
   "metadata": {},
   "source": [
    "### Train the model"
   ]
  },
  {
   "cell_type": "code",
   "execution_count": null,
   "metadata": {
    "scrolled": true
   },
   "outputs": [],
   "source": [
    "#model = keras.models.load_model('/kaggle/input/digits-recog/model.h5',compile=False)\n",
    "#model.compile(loss=custom_loss,optimizer=keras.optimizers.RMSprop(learning_rate=0.001),metrics=[custom_acc,num_char_acc])\n",
    "#model.save_weights('/kaggle/working/chkpt')\n",
    "#model.load_weights('/kaggle/input/recognition-rev/chkpt')\n",
    "callbacks = [#ModelCheckpoint(filepath='/kaggle/working/chkpt',save_weights_only=True),\n",
    "             #EarlyStopping(monitor='val_custom_acc', mode='max', patience=10),\n",
    "             CSVLogger('training.log')]\n",
    "model.fit(train_dataset,validation_data=val_dataset, epochs=50, steps_per_epoch=24000//BATCH_SIZE, callbacks=callbacks)\n",
    "#model.fit(new_data,new_label,batch_size=128, epochs=70, validation_split=0.2, callbacks=callbacks)\n",
    "model.save('/kaggle/working/model.h5')\n",
    "model.save_weights('/kaggle/working/chkpt')"
   ]
  },
  {
   "cell_type": "markdown",
   "metadata": {},
   "source": [
    "### Plot traing trace"
   ]
  },
  {
   "cell_type": "code",
   "execution_count": null,
   "metadata": {},
   "outputs": [],
   "source": [
    "df =pd.read_csv('/kaggle/working/training.log')\n",
    "df.set_index('epoch',inplace=True)\n",
    "df[['custom_acc','val_custom_acc']].plot()\n",
    "df[['loss','val_loss']].plot()"
   ]
  }
 ],
 "metadata": {
  "kernelspec": {
   "display_name": "Python 3",
   "language": "python",
   "name": "python3"
  },
  "language_info": {
   "codemirror_mode": {
    "name": "ipython",
    "version": 3
   },
   "file_extension": ".py",
   "mimetype": "text/x-python",
   "name": "python",
   "nbconvert_exporter": "python",
   "pygments_lexer": "ipython3",
   "version": "3.6.9"
  }
 },
 "nbformat": 4,
 "nbformat_minor": 4
}
